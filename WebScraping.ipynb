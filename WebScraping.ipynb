{
  "nbformat": 4,
  "nbformat_minor": 0,
  "metadata": {
    "colab": {
      "provenance": [],
      "authorship_tag": "ABX9TyMEXGmDepN2cR88K35Fw0aH",
      "include_colab_link": true
    },
    "kernelspec": {
      "name": "python3",
      "display_name": "Python 3"
    },
    "language_info": {
      "name": "python"
    }
  },
  "cells": [
    {
      "cell_type": "markdown",
      "metadata": {
        "id": "view-in-github",
        "colab_type": "text"
      },
      "source": [
        "<a href=\"https://colab.research.google.com/github/Sathvik-Tumati/webscraping/blob/main/WebScraping.ipynb\" target=\"_parent\"><img src=\"https://colab.research.google.com/assets/colab-badge.svg\" alt=\"Open In Colab\"/></a>"
      ]
    },
    {
      "cell_type": "code",
      "execution_count": 1,
      "metadata": {
        "colab": {
          "base_uri": "https://localhost:8080/"
        },
        "id": "ABstQ87IOZA2",
        "outputId": "6f8ebc77-6c4f-4424-e897-a778750df2e6"
      },
      "outputs": [
        {
          "output_type": "stream",
          "name": "stdout",
          "text": [
            "Top 5 trending repositories saved to trending_repos.csv\n"
          ]
        }
      ],
      "source": [
        "import requests\n",
        "from bs4 import BeautifulSoup\n",
        "import csv\n",
        "\n",
        "# GitHub Trending URL\n",
        "URL = 'https://github.com/trending'\n",
        "\n",
        "# Send request to GitHub Trending page\n",
        "response = requests.get(URL)\n",
        "soup = BeautifulSoup(response.text, 'html.parser')\n",
        "\n",
        "# Extract repository containers\n",
        "repo_list = soup.find_all('article', class_='Box-row')[:5]\n",
        "\n",
        "# Parse top 5 repositories\n",
        "repos = []\n",
        "for repo in repo_list:\n",
        "    a_tag = repo.h2.a\n",
        "    repo_name = a_tag.get_text(strip=True).replace('\\n', '').replace(' ', '')\n",
        "    repo_link = f\"https://github.com{a_tag['href']}\"\n",
        "    repos.append([repo_name, repo_link])\n",
        "\n",
        "# Save to CSV\n",
        "with open('trending_repos.csv', 'w', newline='', encoding='utf-8') as f:\n",
        "    writer = csv.writer(f)\n",
        "    writer.writerow(['Repository Name', 'Link'])\n",
        "    writer.writerows(repos)\n",
        "\n",
        "print(\"Top 5 trending repositories saved to trending_repos.csv\")"
      ]
    },
    {
      "cell_type": "code",
      "source": [],
      "metadata": {
        "id": "1zHW2LOwObAW"
      },
      "execution_count": null,
      "outputs": []
    }
  ]
}